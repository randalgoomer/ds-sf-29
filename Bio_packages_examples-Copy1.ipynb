{
 "cells": [
  {
   "cell_type": "code",
   "execution_count": 1,
   "metadata": {
    "collapsed": false
   },
   "outputs": [],
   "source": [
    "import scipy\n",
    "\n",
    "import numpy\n",
    "\n",
    "import reportlab\n",
    "\n",
    "from reportlab.graphics import renderPDF\n",
    "\n",
    "from Bio.Seq import Seq\n",
    "\n",
    "from Bio.Alphabet.IUPAC import unambiguous_dna"
   ]
  },
  {
   "cell_type": "code",
   "execution_count": 2,
   "metadata": {
    "collapsed": false
   },
   "outputs": [],
   "source": [
    "new_seq = Seq('GATCAGAAG', unambiguous_dna)"
   ]
  },
  {
   "cell_type": "code",
   "execution_count": 3,
   "metadata": {
    "collapsed": false
   },
   "outputs": [
    {
     "data": {
      "text/plain": [
       "Seq('GA', IUPACUnambiguousDNA())"
      ]
     },
     "execution_count": 3,
     "metadata": {},
     "output_type": "execute_result"
    }
   ],
   "source": [
    "new_seq[0:2]"
   ]
  },
  {
   "cell_type": "code",
   "execution_count": 4,
   "metadata": {
    "collapsed": false
   },
   "outputs": [
    {
     "data": {
      "text/plain": [
       "Seq('DQK', IUPACProtein())"
      ]
     },
     "execution_count": 4,
     "metadata": {},
     "output_type": "execute_result"
    }
   ],
   "source": [
    "new_seq.translate()"
   ]
  },
  {
   "cell_type": "code",
   "execution_count": 5,
   "metadata": {
    "collapsed": false
   },
   "outputs": [],
   "source": [
    "import Bio"
   ]
  },
  {
   "cell_type": "markdown",
   "metadata": {
    "collapsed": true
   },
   "source": [
    "You're reading a fastq file, right? You're most probably reinventing the wheel - you could just use Biopython, it has tools for dealing with common biology file formats. For instance see this tutorial, for doing something with fastq files - it looks basically like this:\n",
    "\n",
    "from Bio import SeqIO\n",
    "for record in SeqIO.parse(\"SRR020192.fastq\", \"fastq\"):\n",
    "    # do something with record, using record.seq, record.id etc\n",
    "More on biopython SeqRecord objects here.\n",
    "\n",
    "Here is another biopython fastq-processing tutorial, including a variant for doing this faster using a lower-level library, like this:\n",
    "\n",
    "from Bio.SeqIO.QualityIO import FastqGeneralIterator\n",
    "for title, seq, qual in FastqGeneralIterator(open(\"untrimmed.fastq\")):\n",
    "    # do things with title,seq,qual values\n",
    "There's also the HTSeq package, with more deep-sequencing-specific tools, which I actually use more often.\n",
    "\n",
    "By the way, if you don't know about Biostar already, you could take a look - it's a StackExchange-format site specifically for bioinformatics."
   ]
  },
  {
   "cell_type": "code",
   "execution_count": 6,
   "metadata": {
    "collapsed": false
   },
   "outputs": [],
   "source": [
    "from Bio.Align.Applications import ClustalwCommandline"
   ]
  },
  {
   "cell_type": "code",
   "execution_count": null,
   "metadata": {
    "collapsed": false
   },
   "outputs": [],
   "source": [
    "#First, let’s count the reads:\n",
    "\n",
    "from Bio import SeqIO\n",
    "count = 0\n",
    "for rec in SeqIO.parse(\"../../Desktop/OS_FastQ_operations/run1152_lane12_read2_indexD711-D507-MM-188-1.fastq\", \"fastq\"):\n",
    "    count += 1\n",
    "print(\"%i reads\" % count)"
   ]
  },
  {
   "cell_type": "code",
   "execution_count": null,
   "metadata": {
    "collapsed": false
   },
   "outputs": [],
   "source": [
    "#Now let’s do a simple filtering for a minimum PHRED quality of 20:\n",
    "\n",
    "from Bio import SeqIO\n",
    "good_reads = (rec for rec in \\\n",
    "              SeqIO.parse(\"../../Desktop/OS_FastQ_operations/run1152_lane12_read2_indexD711-D507-MM-188-1.fastq\", \"fastq\") \\\n",
    "              if min(rec.letter_annotations[\"phred_quality\"]) >= 20)\n",
    "count = SeqIO.write(good_reads, \"good_quality.fastq\", \"fastq\")\n",
    "print(\"Saved %i reads\" % count)"
   ]
  },
  {
   "cell_type": "code",
   "execution_count": null,
   "metadata": {
    "collapsed": false
   },
   "outputs": [],
   "source": [
    "from Bio import SeqIO\n",
    "primer_reads = (rec for rec in \\\n",
    "                SeqIO.parse(\"../../Desktop/OS_FastQ_operations/run1152_lane12_read2_indexD711-D507-MM-188-1.fastq\", \"fastq\") \\\n",
    "                if rec.seq.startswith(\"GATGACGGTGT\"))\n",
    "count = SeqIO.write(primer_reads, \"with_primer.fastq\", \"fastq\")\n",
    "print(\"Saved %i reads\" % count)"
   ]
  },
  {
   "cell_type": "code",
   "execution_count": null,
   "metadata": {
    "collapsed": true
   },
   "outputs": [],
   "source": []
  },
  {
   "cell_type": "code",
   "execution_count": null,
   "metadata": {
    "collapsed": true
   },
   "outputs": [],
   "source": []
  },
  {
   "cell_type": "code",
   "execution_count": null,
   "metadata": {
    "collapsed": true
   },
   "outputs": [],
   "source": []
  },
  {
   "cell_type": "code",
   "execution_count": null,
   "metadata": {
    "collapsed": true
   },
   "outputs": [],
   "source": []
  },
  {
   "cell_type": "code",
   "execution_count": null,
   "metadata": {
    "collapsed": true
   },
   "outputs": [],
   "source": []
  },
  {
   "cell_type": "code",
   "execution_count": null,
   "metadata": {
    "collapsed": true
   },
   "outputs": [],
   "source": []
  },
  {
   "cell_type": "code",
   "execution_count": null,
   "metadata": {
    "collapsed": true
   },
   "outputs": [],
   "source": []
  },
  {
   "cell_type": "code",
   "execution_count": null,
   "metadata": {
    "collapsed": true
   },
   "outputs": [],
   "source": []
  },
  {
   "cell_type": "code",
   "execution_count": null,
   "metadata": {
    "collapsed": true
   },
   "outputs": [],
   "source": []
  },
  {
   "cell_type": "code",
   "execution_count": null,
   "metadata": {
    "collapsed": true
   },
   "outputs": [],
   "source": []
  },
  {
   "cell_type": "code",
   "execution_count": null,
   "metadata": {
    "collapsed": true
   },
   "outputs": [],
   "source": []
  },
  {
   "cell_type": "code",
   "execution_count": null,
   "metadata": {
    "collapsed": true
   },
   "outputs": [],
   "source": []
  }
 ],
 "metadata": {
  "anaconda-cloud": {},
  "kernelspec": {
   "display_name": "Python [default]",
   "language": "python",
   "name": "python2"
  },
  "language_info": {
   "codemirror_mode": {
    "name": "ipython",
    "version": 2
   },
   "file_extension": ".py",
   "mimetype": "text/x-python",
   "name": "python",
   "nbconvert_exporter": "python",
   "pygments_lexer": "ipython2",
   "version": "2.7.12"
  }
 },
 "nbformat": 4,
 "nbformat_minor": 1
}
