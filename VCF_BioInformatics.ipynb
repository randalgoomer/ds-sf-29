{
 "cells": [
  {
   "cell_type": "code",
   "execution_count": 1,
   "metadata": {
    "collapsed": false
   },
   "outputs": [],
   "source": [
    "import scipy"
   ]
  },
  {
   "cell_type": "code",
   "execution_count": 2,
   "metadata": {
    "collapsed": true
   },
   "outputs": [],
   "source": [
    "import numpy"
   ]
  },
  {
   "cell_type": "code",
   "execution_count": 3,
   "metadata": {
    "collapsed": false
   },
   "outputs": [],
   "source": [
    "import reportlab"
   ]
  },
  {
   "cell_type": "code",
   "execution_count": 4,
   "metadata": {
    "collapsed": true
   },
   "outputs": [],
   "source": [
    "from reportlab.graphics import renderPDF"
   ]
  },
  {
   "cell_type": "code",
   "execution_count": 5,
   "metadata": {
    "collapsed": false
   },
   "outputs": [],
   "source": [
    "from Bio.Seq import Seq"
   ]
  },
  {
   "cell_type": "code",
   "execution_count": 6,
   "metadata": {
    "collapsed": false
   },
   "outputs": [],
   "source": [
    " from Bio.Alphabet.IUPAC import unambiguous_dna"
   ]
  },
  {
   "cell_type": "code",
   "execution_count": 7,
   "metadata": {
    "collapsed": false
   },
   "outputs": [],
   "source": [
    "import Bio"
   ]
  },
  {
   "cell_type": "code",
   "execution_count": 8,
   "metadata": {
    "collapsed": false
   },
   "outputs": [],
   "source": [
    "from Bio.Align.Applications import ClustalwCommandline"
   ]
  },
  {
   "cell_type": "code",
   "execution_count": 9,
   "metadata": {
    "collapsed": false
   },
   "outputs": [
    {
     "data": {
      "text/plain": [
       "['ClustalOmegaCommandline',\n",
       " 'ClustalwCommandline',\n",
       " 'DialignCommandline',\n",
       " 'MSAProbsCommandline',\n",
       " 'MafftCommandline',\n",
       " 'MuscleCommandline',\n",
       " 'PrankCommandline',\n",
       " 'ProbconsCommandline',\n",
       " 'TCoffeeCommandline',\n",
       " '_ClustalOmega',\n",
       " '_Clustalw',\n",
       " '_Dialign',\n",
       " '_MSAProbs',\n",
       " '_Mafft',\n",
       " '_Muscle',\n",
       " '_Prank',\n",
       " '_Probcons',\n",
       " '_TCoffee',\n",
       " '__all__',\n",
       " '__builtins__',\n",
       " '__doc__',\n",
       " '__file__',\n",
       " '__name__',\n",
       " '__package__',\n",
       " '__path__']"
      ]
     },
     "execution_count": 9,
     "metadata": {},
     "output_type": "execute_result"
    }
   ],
   "source": [
    "dir(Bio.Align.Applications)"
   ]
  },
  {
   "cell_type": "code",
   "execution_count": 10,
   "metadata": {
    "collapsed": false
   },
   "outputs": [],
   "source": [
    "from Bio import AlignIO\n",
    "#align = AlignIO.read(\"opuntia.aln\", \"clustal\")"
   ]
  },
  {
   "cell_type": "code",
   "execution_count": 11,
   "metadata": {
    "collapsed": false
   },
   "outputs": [],
   "source": [
    "from Bio import Phylo\n",
    "#tree = Phylo.read(\"opuntia.dnd\", \"newick\")\n",
    "#Phylo.draw_ascii(tree)"
   ]
  },
  {
   "cell_type": "markdown",
   "metadata": {
    "collapsed": true
   },
   "source": [
    "You're reading a fastq file, right? You're most probably reinventing the wheel - you could just use Biopython, it has tools for dealing with common biology file formats. For instance see this tutorial, for doing something with fastq files - it looks basically like this:\n",
    "\n",
    "from Bio import SeqIO\n",
    "for record in SeqIO.parse(\"SRR020192.fastq\", \"fastq\"):\n",
    "    # do something with record, using record.seq, record.id etc\n",
    "More on biopython SeqRecord objects here.\n",
    "\n",
    "Here is another biopython fastq-processing tutorial, including a variant for doing this faster using a lower-level library, like this:\n",
    "\n",
    "from Bio.SeqIO.QualityIO import FastqGeneralIterator\n",
    "for title, seq, qual in FastqGeneralIterator(open(\"untrimmed.fastq\")):\n",
    "    # do things with title,seq,qual values\n",
    "There's also the HTSeq package, with more deep-sequencing-specific tools, which I actually use more often.\n",
    "\n",
    "By the way, if you don't know about Biostar already, you could take a look - it's a StackExchange-format site specifically for bioinformatics."
   ]
  },
  {
   "cell_type": "code",
   "execution_count": 12,
   "metadata": {
    "collapsed": true
   },
   "outputs": [],
   "source": [
    "# READING VCF files: use vcf"
   ]
  },
  {
   "cell_type": "code",
   "execution_count": 13,
   "metadata": {
    "collapsed": false
   },
   "outputs": [],
   "source": [
    "import vcf"
   ]
  },
  {
   "cell_type": "code",
   "execution_count": 14,
   "metadata": {
    "collapsed": false
   },
   "outputs": [],
   "source": [
    "vcf_reader = vcf.Reader(open('/Users/randalgoomer/Desktop/MM VCFs miSeq/MM348ccf-33889850.vcf', 'r'))"
   ]
  },
  {
   "cell_type": "raw",
   "metadata": {},
   "source": [
    "for record in vcf_reader:\n",
    "    print record"
   ]
  },
  {
   "cell_type": "code",
   "execution_count": 15,
   "metadata": {
    "collapsed": false
   },
   "outputs": [
    {
     "name": "stdout",
     "output_type": "stream",
     "text": [
      "43815071\n",
      "[T]\n",
      "{'FC': ['Noncoding'], 'GI': ['MPL'], 'DP': 562, 'TI': ['NM_005373']}\n",
      "indel del\n",
      "True False True\n",
      "1 1 1.0\n"
     ]
    }
   ],
   "source": [
    "record = next(vcf_reader)\n",
    "print record.POS\n",
    "print record.ALT\n",
    "print record.INFO\n",
    "print record.var_type, record.var_subtype\n",
    "print record.is_deletion, record.is_snp, record.is_indel\n",
    "print record.num_called, record.num_het, record.nucl_diversity"
   ]
  },
  {
   "cell_type": "code",
   "execution_count": 16,
   "metadata": {
    "collapsed": false
   },
   "outputs": [
    {
     "name": "stdout",
     "output_type": "stream",
     "text": [
      "0/1\n"
     ]
    }
   ],
   "source": [
    "#Finally, record.samples is a list of dictionaries containing the parsed\n",
    "#sample column and record.genotype is a way of looking up genotypes by sample name\n",
    "record = next(vcf_reader)\n",
    "for sample in record.samples:\n",
    "    print sample['GT']"
   ]
  },
  {
   "cell_type": "markdown",
   "metadata": {},
   "source": [
    "The genotypes are represented by Call objects, which have three \n",
    "attributes: the corresponding Record site, the sample name in sample \n",
    "    and a dictionary\n",
    "    of call data in data:"
   ]
  },
  {
   "cell_type": "code",
   "execution_count": 17,
   "metadata": {
    "collapsed": false
   },
   "outputs": [
    {
     "name": "stdout",
     "output_type": "stream",
     "text": [
      "[Call(sample=MM348ccf, CallData(GT=0/1, GQ=61, AD=[814, 26], VF=0.031, NL=20, SB=-21.9886, GQX=61))]\n"
     ]
    }
   ],
   "source": [
    "print record.get_hets()"
   ]
  },
  {
   "cell_type": "code",
   "execution_count": 18,
   "metadata": {
    "collapsed": false
   },
   "outputs": [
    {
     "name": "stdout",
     "output_type": "stream",
     "text": [
      "Record(CHROM=chr1, POS=115258738, REF=C, ALT=[T])\n",
      "CallData(GT=0/1, GQ=61, AD=[814, 26], VF=0.031, NL=20, SB=-21.9886, GQX=61)\n",
      "MM348ccf\n"
     ]
    }
   ],
   "source": [
    "call = record.genotype('MM348ccf')\n",
    "print call.site\n",
    "print call.data\n",
    "print call.sample"
   ]
  },
  {
   "cell_type": "code",
   "execution_count": 19,
   "metadata": {
    "collapsed": false,
    "scrolled": true
   },
   "outputs": [
    {
     "data": {
      "text/plain": [
       "OrderedDict([('fileformat', 'VCFv4.1'),\n",
       "             ('annotator', ['MARS']),\n",
       "             ('fileDate', '20160713'),\n",
       "             ('source', ['CallSomaticVariants 3.2.3.0']),\n",
       "             ('CallSomaticVariants_cmdline',\n",
       "              ['\" -B D:\\\\Illumina\\\\MiSeqAnalysis\\\\429ea50dd001441498daa64101304cdf\\\\Data\\\\Intensities\\\\BaseCalls\\\\Alignment -g [E:\\\\Genomes\\\\Homo_sapiens\\\\UCSC\\\\hg19\\\\Sequence\\\\WholeGenomeFASTA,] -f 0.01 -fo False -b 20 -q 100 -c 10 -s 0.5 -a 20 -F 20 -gVCF False -i true -r D:\\\\Illumina\\\\MiSeqAnalysis\\\\429ea50dd001441498daa64101304cdf\"']),\n",
       "             ('reference',\n",
       "              'E:\\\\Genomes\\\\Homo_sapiens\\\\UCSC\\\\hg19\\\\Sequence\\\\WholeGenomeFASTA\\\\genome.fa')])"
      ]
     },
     "execution_count": 19,
     "metadata": {},
     "output_type": "execute_result"
    }
   ],
   "source": [
    "vcf_reader.metadata"
   ]
  },
  {
   "cell_type": "code",
   "execution_count": 20,
   "metadata": {
    "collapsed": false
   },
   "outputs": [
    {
     "data": {
      "text/plain": [
       "['MM348ccf']"
      ]
     },
     "execution_count": 20,
     "metadata": {},
     "output_type": "execute_result"
    }
   ],
   "source": [
    "vcf_reader.samples"
   ]
  },
  {
   "cell_type": "code",
   "execution_count": 21,
   "metadata": {
    "collapsed": false
   },
   "outputs": [
    {
     "data": {
      "text/plain": [
       "OrderedDict([('LowVariantFreq',\n",
       "              Filter(id='LowVariantFreq', desc='Low variant frequency < 0.01')),\n",
       "             ('LowGQ', Filter(id='LowGQ', desc='GQ below < 30.00')),\n",
       "             ('R8',\n",
       "              Filter(id='R8', desc='IndelRepeatLength is greater than 8')),\n",
       "             ('LowDP',\n",
       "              Filter(id='LowDP', desc='Low coverage (DP tag), therefore no genotype called')),\n",
       "             ('SB', Filter(id='SB', desc='Variant strand bias too high'))])"
      ]
     },
     "execution_count": 21,
     "metadata": {},
     "output_type": "execute_result"
    }
   ],
   "source": [
    "vcf_reader.filters"
   ]
  },
  {
   "cell_type": "code",
   "execution_count": 22,
   "metadata": {
    "collapsed": false
   },
   "outputs": [
    {
     "data": {
      "text/plain": [
       "<bound method OrderedDict.keys of OrderedDict([('TI', Info(id='TI', num=None, type='String', desc='Transcript ID', source=None, version=None)), ('GI', Info(id='GI', num=None, type='String', desc='Gene ID', source=None, version=None)), ('EXON', Info(id='EXON', num=0, type='Flag', desc='Exon Region', source=None, version=None)), ('FC', Info(id='FC', num=None, type='String', desc='Functional Consequence', source=None, version=None)), ('DP', Info(id='DP', num=1, type='Integer', desc='Total Depth', source=None, version=None))])>"
      ]
     },
     "execution_count": 22,
     "metadata": {},
     "output_type": "execute_result"
    }
   ],
   "source": [
    "vcf_reader.infos.keys"
   ]
  },
  {
   "cell_type": "markdown",
   "metadata": {},
   "source": [
    "ALT records are actually classes, so that you can interrogate them:\n",
    "\n",
    ">>> reader = vcf.Reader(open('vcf/test/example-4.1-bnd.vcf'))\n",
    ">>> _ = next(reader); row = next(reader)\n",
    ">>> print row\n",
    "Record(CHROM=1, POS=2, REF=T, ALT=[T[2:3[])\n",
    ">>> bnd = row.ALT[0]\n",
    ">>> print bnd.withinMainAssembly, bnd.orientation, bnd.remoteOrientation, bnd.connectingSequence\n",
    "True False True T\n",
    "The Reader supports retrieval of records within designated regions for files with tabix indexes via the fetch method. This requires the pysam module as a dependency. Pass in a chromosome, and, optionally, start and end coordinates, for the regions of interest:\n",
    "\n",
    ">>> vcf_reader = vcf.Reader(filename='vcf/test/tb.vcf.gz')\n",
    ">>> # fetch all records on chromosome 20 from base 1110696 through 1230237\n",
    ">>> for record in vcf_reader.fetch('20', 1110695, 1230237):  \n",
    "...     print record\n",
    "Record(CHROM=20, POS=1110696, REF=A, ALT=[G, T])\n",
    "Record(CHROM=20, POS=1230237, REF=T, ALT=[None])"
   ]
  },
  {
   "cell_type": "code",
   "execution_count": 23,
   "metadata": {
    "collapsed": false
   },
   "outputs": [],
   "source": [
    "import pysam"
   ]
  },
  {
   "cell_type": "code",
   "execution_count": 24,
   "metadata": {
    "collapsed": false
   },
   "outputs": [
    {
     "ename": "IOError",
     "evalue": "index `/Users/randalgoomer/Desktop/MM VCFs miSeq/MM348ccf-33889850.vcf.tbi` not found",
     "output_type": "error",
     "traceback": [
      "\u001b[0;31m---------------------------------------------------------------------------\u001b[0m",
      "\u001b[0;31mIOError\u001b[0m                                   Traceback (most recent call last)",
      "\u001b[0;32m<ipython-input-24-c1e356f098e0>\u001b[0m in \u001b[0;36m<module>\u001b[0;34m()\u001b[0m\n\u001b[1;32m      1\u001b[0m \u001b[0;31m# fetch all records on chromosome 4 from base 11 through 20\u001b[0m\u001b[0;34m\u001b[0m\u001b[0;34m\u001b[0m\u001b[0m\n\u001b[0;32m----> 2\u001b[0;31m \u001b[0mvcf_reader\u001b[0m\u001b[0;34m.\u001b[0m\u001b[0mfetch\u001b[0m\u001b[0;34m(\u001b[0m\u001b[0;34m'4'\u001b[0m\u001b[0;34m,\u001b[0m \u001b[0;36m10\u001b[0m\u001b[0;34m,\u001b[0m \u001b[0;36m20\u001b[0m\u001b[0;34m)\u001b[0m\u001b[0;34m\u001b[0m\u001b[0m\n\u001b[0m",
      "\u001b[0;32m/Users/randalgoomer/Documents/anaconda/lib/python2.7/site-packages/vcf/parser.pyc\u001b[0m in \u001b[0;36mfetch\u001b[0;34m(self, chrom, start, end)\u001b[0m\n\u001b[1;32m    624\u001b[0m         \u001b[0;32mif\u001b[0m \u001b[0;32mnot\u001b[0m \u001b[0mself\u001b[0m\u001b[0;34m.\u001b[0m\u001b[0m_tabix\u001b[0m\u001b[0;34m:\u001b[0m\u001b[0;34m\u001b[0m\u001b[0m\n\u001b[1;32m    625\u001b[0m             self._tabix = pysam.Tabixfile(self.filename,\n\u001b[0;32m--> 626\u001b[0;31m                                           encoding=self.encoding)\n\u001b[0m\u001b[1;32m    627\u001b[0m \u001b[0;34m\u001b[0m\u001b[0m\n\u001b[1;32m    628\u001b[0m         \u001b[0;32mif\u001b[0m \u001b[0mself\u001b[0m\u001b[0;34m.\u001b[0m\u001b[0m_prepend_chr\u001b[0m \u001b[0;32mand\u001b[0m \u001b[0mchrom\u001b[0m\u001b[0;34m[\u001b[0m\u001b[0;34m:\u001b[0m\u001b[0;36m3\u001b[0m\u001b[0;34m]\u001b[0m \u001b[0;34m==\u001b[0m \u001b[0;34m'chr'\u001b[0m\u001b[0;34m:\u001b[0m\u001b[0;34m\u001b[0m\u001b[0m\n",
      "\u001b[0;32mpysam/ctabix.pyx\u001b[0m in \u001b[0;36mpysam.ctabix.TabixFile.__cinit__ (pysam/ctabix.c:3455)\u001b[0;34m()\u001b[0m\n",
      "\u001b[0;32mpysam/ctabix.pyx\u001b[0m in \u001b[0;36mpysam.ctabix.TabixFile._open (pysam/ctabix.c:3902)\u001b[0;34m()\u001b[0m\n",
      "\u001b[0;31mIOError\u001b[0m: index `/Users/randalgoomer/Desktop/MM VCFs miSeq/MM348ccf-33889850.vcf.tbi` not found"
     ]
    }
   ],
   "source": [
    "# fetch all records on chromosome 4 from base 11 through 20\n",
    "vcf_reader.fetch('4', 10, 20)"
   ]
  },
  {
   "cell_type": "code",
   "execution_count": 25,
   "metadata": {
    "collapsed": false
   },
   "outputs": [],
   "source": [
    "#The Writer class provides a way of writing a VCF file. Currently, you must specify a template Reader which provides the metadata:\n",
    "\n",
    "vcf_reader = vcf.Reader(filename='/Users/randalgoomer/Desktop/MM VCFs miSeq/MM348ccf-33889850.vcf')\n",
    "vcf_writer = vcf.Writer(open('/dev/null', 'w'), vcf_reader)\n",
    "for record in vcf_reader:\n",
    "    vcf_writer.write_record(record)"
   ]
  },
  {
   "cell_type": "code",
   "execution_count": null,
   "metadata": {
    "collapsed": true
   },
   "outputs": [],
   "source": []
  },
  {
   "cell_type": "code",
   "execution_count": null,
   "metadata": {
    "collapsed": true
   },
   "outputs": [],
   "source": []
  },
  {
   "cell_type": "code",
   "execution_count": null,
   "metadata": {
    "collapsed": true
   },
   "outputs": [],
   "source": []
  },
  {
   "cell_type": "code",
   "execution_count": null,
   "metadata": {
    "collapsed": true
   },
   "outputs": [],
   "source": []
  },
  {
   "cell_type": "code",
   "execution_count": null,
   "metadata": {
    "collapsed": true
   },
   "outputs": [],
   "source": []
  },
  {
   "cell_type": "code",
   "execution_count": null,
   "metadata": {
    "collapsed": true
   },
   "outputs": [],
   "source": []
  },
  {
   "cell_type": "code",
   "execution_count": null,
   "metadata": {
    "collapsed": true
   },
   "outputs": [],
   "source": []
  },
  {
   "cell_type": "code",
   "execution_count": null,
   "metadata": {
    "collapsed": true
   },
   "outputs": [],
   "source": []
  },
  {
   "cell_type": "code",
   "execution_count": null,
   "metadata": {
    "collapsed": true
   },
   "outputs": [],
   "source": []
  },
  {
   "cell_type": "code",
   "execution_count": null,
   "metadata": {
    "collapsed": true
   },
   "outputs": [],
   "source": []
  },
  {
   "cell_type": "code",
   "execution_count": null,
   "metadata": {
    "collapsed": true
   },
   "outputs": [],
   "source": []
  },
  {
   "cell_type": "code",
   "execution_count": null,
   "metadata": {
    "collapsed": true
   },
   "outputs": [],
   "source": []
  },
  {
   "cell_type": "code",
   "execution_count": null,
   "metadata": {
    "collapsed": true
   },
   "outputs": [],
   "source": []
  },
  {
   "cell_type": "code",
   "execution_count": null,
   "metadata": {
    "collapsed": true
   },
   "outputs": [],
   "source": []
  },
  {
   "cell_type": "code",
   "execution_count": null,
   "metadata": {
    "collapsed": true
   },
   "outputs": [],
   "source": []
  }
 ],
 "metadata": {
  "anaconda-cloud": {},
  "kernelspec": {
   "display_name": "Python [default]",
   "language": "python",
   "name": "python2"
  },
  "language_info": {
   "codemirror_mode": {
    "name": "ipython",
    "version": 2
   },
   "file_extension": ".py",
   "mimetype": "text/x-python",
   "name": "python",
   "nbconvert_exporter": "python",
   "pygments_lexer": "ipython2",
   "version": "2.7.12"
  }
 },
 "nbformat": 4,
 "nbformat_minor": 1
}
